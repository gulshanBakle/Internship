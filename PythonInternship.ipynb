{
 "cells": [
  {
   "cell_type": "markdown",
   "metadata": {},
   "source": [
    "# Question 1:Company manager"
   ]
  },
  {
   "cell_type": "code",
   "execution_count": 6,
   "metadata": {
    "collapsed": true
   },
   "outputs": [],
   "source": [
    "class Company:\n",
    "    def __init__(self,company_name):\n",
    "        self.company_name=company_name\n",
    "        \n",
    "        # Create a dictionary of employee types, with lists to hold multiple employees\n",
    "        self.type_of_emp = {'H':[],'S':[],'M':[],'E':[]}\n",
    "    \n",
    "    #defining various type of emplyee to hire\n",
    "    def hire_hourly_emp(self,eid,name,project_name):\n",
    "        rate_per_hour=400\n",
    "        hours=4\n",
    "        netsal=HourlyEmployee.pay(self,rate_per_hour,hours)\n",
    "        self.type_of_emp['H'].append(HourlyEmployee(eid,name,project_name,netsal))\n",
    "        print(\"hourly emp added\")\n",
    "    def hire_salaried_emp(self,eid,name,post,pf_percent):\n",
    "        wage=850\n",
    "        netsal=SalariedEmployee.pay(self,wage,pf_percent)\n",
    "        self.type_of_emp['S'].append(SalariedEmployee(eid,name,post,pf_percent,netsal))\n",
    "        print(\"salaried emp hired\")\n",
    "    def hire_manager_emp(self,eid,name,post,pf_percent):\n",
    "        wage=2000\n",
    "        netsal=Manager.pay(self,wage,pf_percent)\n",
    "        self.type_of_emp['M'].append(Manager(eid,name,post,pf_percent,netsal))\n",
    "        print(\"manager hired\")\n",
    "    def hire_executive_emp(self,eid,name,post,pf_percent):\n",
    "        wage=5000\n",
    "        netsal=Executive.pay(self,wage,pf_percent)\n",
    "        self.type_of_emp['E'].append(Executive(eid,name,post,pf_percent,netsal))\n",
    "        print(\"executive hired\")\n",
    "    #firing a employee\n",
    "    def __del__(self):\n",
    "        print(\"emp fired!\")\n",
    "\n",
    "#to fetch payment detail of any type of employee:\n",
    "def get_pay(name,eid,emp_type):\n",
    "    for name in name.type_of_emp[emp_type]:\n",
    "        if name.eid==eid:\n",
    "            print(name.netsal)\n",
    "#to calculate the raise which has to be given:\n",
    "def give_raise(name,eid,emp_type,percent_raise):\n",
    "    for name in name.type_of_emp[emp_type]:\n",
    "        if name.eid==eid:\n",
    "            name.netsal=name.netsal+name.netsal*(percent_raise*0.01)\n",
    "            print(name.netsal)\n",
    "            \n",
    "#abstract employee class\n",
    "class Employee():\n",
    "    def __init__(self,eid,name):\n",
    "        self.eid=eid\n",
    "        self.name=name\n",
    "    def pay(self):\n",
    "        raise NotImplementedError()\n",
    "        \n",
    "#different types of employees inheriting employee class\n",
    "class HourlyEmployee(Employee):\n",
    "    def __init__(self,eid,name,project_name):\n",
    "        super().__init__(eid,name)\n",
    "        self.project_name=project_name\n",
    "    def __str__(self):\n",
    "        pass\n",
    "    def pay(self,rate_per_hour,hours):\n",
    "        netsalary=HourlyEmployee.hours*HourlyEmployee.rate_per_hour\n",
    "        print(netsalary)\n",
    "        return netsalary\n",
    "class SalariedEmployee(Employee):\n",
    "    def __init__(self,eid,name,post,pf_percent,netsal):\n",
    "        super().__init__(eid,name)\n",
    "        self.post=post\n",
    "        self.pf_percent=pf_percent\n",
    "        self.netsal=netsal\n",
    "    def __str__(self):\n",
    "        pass\n",
    "#calculate the payment of salaried employee\n",
    "    def pay(self,wage,pf_percent):\n",
    "        basic=wage*30\n",
    "        hra=basic*0.2\n",
    "        da=basic*0.1\n",
    "        pf=basic*(0.01*pf_percent)\n",
    "        netsalary=basic+hra+da-pf\n",
    "        print(netsalary)\n",
    "        return netsalary\n",
    "class Manager(Employee):\n",
    "    def __init__(self,eid,name,post,pf_percent,netsal):\n",
    "        super().__init__(eid,name)\n",
    "        self.post=post\n",
    "        self.pf_percent=pf_percent\n",
    "        self.netsal=netsal\n",
    "    def __str__(self):\n",
    "        pass\n",
    "#calculate the payment of manager:\n",
    "    def pay(self,wage,pf_percent):\n",
    "        basic=wage*30\n",
    "        hra=basic*0.8\n",
    "        da=basic*0.2\n",
    "        pf=basic*(0.01*pf_percent)\n",
    "        netsalary=basic+hra+da-pf\n",
    "        print(netsalary)\n",
    "        return netsalary\n",
    "    \n",
    "class Executive(Employee):\n",
    "    def __init__(self,eid,name,post,pf_percent,netsal):\n",
    "        super().__init__(eid,name)\n",
    "        self.post=post\n",
    "        self.pf_percent=pf_percent\n",
    "        self.netsal=netsal\n",
    "    def __str__(self):\n",
    "        pass\n",
    "#calculate the payment of executive:\n",
    "    def pay(self,wage,pf_percent):\n",
    "        basic=wage*30\n",
    "        hra=basic*0.8\n",
    "        da=basic*0.2\n",
    "        pf=basic*(0.01*pf_percent)\n",
    "        netsalary=basic+hra+da-pf\n",
    "        print(netsalary)\n",
    "        return netsalary\n",
    "    "
   ]
  },
  {
   "cell_type": "code",
   "execution_count": 2,
   "metadata": {
    "collapsed": true
   },
   "outputs": [],
   "source": [
    "erwin=Company('ABCD')\n"
   ]
  },
  {
   "cell_type": "code",
   "execution_count": 3,
   "metadata": {},
   "outputs": [
    {
     "name": "stdout",
     "output_type": "stream",
     "text": [
      "262500.0\n",
      "executive hired\n"
     ]
    }
   ],
   "source": [
    "erwin.hire_executive_emp(15,'erwin hardy','finance executive',25)"
   ]
  },
  {
   "cell_type": "code",
   "execution_count": 5,
   "metadata": {},
   "outputs": [
    {
     "name": "stdout",
     "output_type": "stream",
     "text": [
      "315000.0\n"
     ]
    }
   ],
   "source": [
    "give_raise(erwin,15,'E',20)"
   ]
  },
  {
   "cell_type": "code",
   "execution_count": 7,
   "metadata": {},
   "outputs": [
    {
     "name": "stdout",
     "output_type": "stream",
     "text": [
      "315000.0\n"
     ]
    }
   ],
   "source": [
    "get_pay(erwin,15,'E')"
   ]
  },
  {
   "cell_type": "markdown",
   "metadata": {},
   "source": [
    "# Question 2: Quiz generator"
   ]
  },
  {
   "cell_type": "code",
   "execution_count": 9,
   "metadata": {},
   "outputs": [
    {
     "name": "stdout",
     "output_type": "stream",
     "text": [
      "***Welcome to quiz competion***\n",
      "Enter your name to participate: edward\n",
      "Question number 1 is \n",
      "Who invented radium?\n",
      "enter your answer: gulshan\n",
      "wrong answer\n",
      "Question number 2 is \n",
      "Which actor has highest number of academy awards?\n",
      "enter your answer: leonardo\n",
      "wrong answer\n",
      "Question number 3 is \n",
      "What is study of Entomology for?\n",
      "enter your answer: insects\n",
      "correct answer\n",
      "Question number 4 is \n",
      "Which country has won maximum number of fifa world cups?\n",
      "enter your answer: brazil\n",
      "correct answer\n",
      "Question number 5 is \n",
      "Which country is called land of rising sun?\n",
      "enter your answer: japan\n",
      "correct answer\n",
      "your score is 3\n",
      " **congratulations**\n"
     ]
    }
   ],
   "source": [
    "import random\n",
    "import csv\n",
    "print(\"***Welcome to quiz competion***\")\n",
    "count=0\n",
    "quiz=open('Quiz.csv','r')\n",
    "name=input(\"Enter your name to participate: \")\n",
    "reader=csv.reader(quiz)\n",
    "questions,answers=[],[]\n",
    "for x,y in reader:\n",
    "    questions.append(x)\n",
    "    answers.append(y)\n",
    "for i in range(1,6):\n",
    "    print(\"Question number \"+str(i)+\" is \")\n",
    "    length=len(questions)\n",
    "    x=random.randint(1,length)\n",
    "    print(questions[x])\n",
    "    ans=input(\"enter your answer: \")\n",
    "    if(ans.title()==answers[x] or ans==answers[x]):\n",
    "        print(\"correct answer\")\n",
    "        count=count+1\n",
    "    else:\n",
    "        print(\"wrong answer\")\n",
    "print(\"your score is \"+str(count)+\"\\n **congratulations**\")\n",
    "\n",
    "quiz.close()"
   ]
  },
  {
   "cell_type": "markdown",
   "metadata": {},
   "source": [
    "# Question 3: sort csv file"
   ]
  },
  {
   "cell_type": "code",
   "execution_count": 115,
   "metadata": {},
   "outputs": [
    {
     "name": "stdout",
     "output_type": "stream",
     "text": [
      "enter key on the basis you want to sort Annual Income (k$)\n",
      "     Unnamed: 0   Genre  Age  Annual Income (k$)  Spending Score (1-100)\n",
      "17          156    Male   21                  15                      81\n",
      "10          165    Male   19                  15                      39\n",
      "16           81  Female   20                  16                       6\n",
      "25           93  Female   23                  16                      77\n",
      "22           76  Female   22                  17                      76\n",
      "63            0  Female   31                  17                      40\n",
      "28           73  Female   23                  18                      94\n",
      "97            3  Female   35                  18                       6\n",
      "185         134    Male   64                  19                       3\n",
      "60           97  Female   30                  19                      72\n",
      "91            9  Female   35                  19                      99\n",
      "191         113    Male   67                  19                      14\n",
      "106         198    Male   37                  20                      13\n",
      "175          95  Female   58                  20                      15\n",
      "32           66  Female   24                  20                      77\n",
      "24          168    Male   22                  20                      79\n",
      "15          157    Male   20                  21                      66\n",
      "93            8  Female   35                  21                      35\n",
      "94            7  Female   35                  23                      98\n",
      "163         129    Male   52                  23                      29\n",
      "35          152    Male   25                  24                      73\n",
      "92          189    Male   35                  24                      35\n",
      "135          34  Female   46                  25                       5\n",
      "65          170    Male   31                  25                      73\n",
      "131          37  Female   45                  28                      32\n",
      "89          190    Male   35                  28                      61\n",
      "53          143    Male   29                  28                      82\n",
      "167          24  Female   54                  28                      14\n",
      "120          46  Female   40                  29                      31\n",
      "27           71  Female   23                  29                      87\n",
      "..          ...     ...  ...                 ...                     ...\n",
      "70          171    Male   32                  87                      63\n",
      "101         140    Male   36                  87                      10\n",
      "100         187    Male   36                  87                      92\n",
      "121         178    Male   40                  87                      13\n",
      "174         132    Male   58                  88                      15\n",
      "40          147    Male   27                  88                      69\n",
      "162          29  Female   52                  88                      13\n",
      "61          101  Female   30                  88                      86\n",
      "177         127    Male   59                  93                      14\n",
      "90          188    Male   35                  93                      90\n",
      "104          59  Female   37                  97                      32\n",
      "79           21  Female   32                  97                      86\n",
      "134         172    Male   46                  98                      15\n",
      "51           96  Female   29                  98                      88\n",
      "56          142    Male   30                  99                      97\n",
      "122          45  Female   41                  99                      39\n",
      "48          144    Male   28                 101                      68\n",
      "166          22  Female   54                 101                      24\n",
      "103          60  Female   36                 103                      85\n",
      "75           23  Female   32                 103                      69\n",
      "123          44  Female   41                 103                      17\n",
      "87           11  Female   34                 103                      23\n",
      "83          194    Male   33                 113                       8\n",
      "112          53  Female   38                 113                      91\n",
      "139          36  Female   47                 120                      16\n",
      "96            5  Female   35                 120                      79\n",
      "76          184    Male   32                 126                      74\n",
      "133          39  Female   45                 126                      28\n",
      "80          195    Male   32                 137                      18\n",
      "55          154    Male   30                 137                      83\n",
      "\n",
      "[200 rows x 5 columns]\n"
     ]
    }
   ],
   "source": [
    "import pandas as pd\n",
    "import numpy as np\n",
    "csv_file=pd.read_csv('Mall_Customers.csv')\n",
    "csv_dataframe=pd.DataFrame(csv_file)\n",
    "key_sort=input(\"enter key on the basis you want to sort \")\n",
    "sorted_csv=csv_dataframe.sort_values(by=key_sort,axis=0,ascending=True)\n",
    "print(sorted_csv)\n",
    "sorted_csv_final=sorted_csv.iloc[:,1:]\n",
    "sorted_csv_final.drop(sorted_csv_final.columns[[0,1]],axis=1)\n",
    "sorted_csv_final.to_csv('Mall_Customers.csv')"
   ]
  },
  {
   "cell_type": "markdown",
   "metadata": {},
   "source": [
    "# Question 4: Simulating Coin Flipping"
   ]
  },
  {
   "cell_type": "code",
   "execution_count": 21,
   "metadata": {},
   "outputs": [
    {
     "name": "stdout",
     "output_type": "stream",
     "text": [
      "\n",
      "******Welcome to coin fippin game*****\n",
      "Enter here number of times u wanna flip4\n",
      "['heads', 'tails', 'tails', 'heads']\n",
      "2\n",
      "2\n"
     ]
    }
   ],
   "source": [
    "import random\n",
    "print(\"\\n******Welcome to coin fippin game*****\")\n",
    "n=int(input(\"Enter here number of times u wanna flip\"))\n",
    "outcome=[]\n",
    "for i in range(1,n+1):\n",
    "    j=random.randint(0,1)\n",
    "    if(j==0):\n",
    "         outcome.append(\"heads\")\n",
    "    else:\n",
    "         outcome.append(\"tails\")\n",
    "print(outcome)\n",
    "head=[x for x in outcome if x==\"heads\"]\n",
    "tail=[x for x in outcome if x==\"tails\"]\n",
    "print(head.count(\"heads\"))\n",
    "print(tail.count(\"tails\"))"
   ]
  }
 ],
 "metadata": {
  "kernelspec": {
   "display_name": "Python 3",
   "language": "python",
   "name": "python3"
  },
  "language_info": {
   "codemirror_mode": {
    "name": "ipython",
    "version": 3
   },
   "file_extension": ".py",
   "mimetype": "text/x-python",
   "name": "python",
   "nbconvert_exporter": "python",
   "pygments_lexer": "ipython3",
   "version": "3.6.1"
  }
 },
 "nbformat": 4,
 "nbformat_minor": 2
}
